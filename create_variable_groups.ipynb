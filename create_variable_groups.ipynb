{
 "cells": [
  {
   "cell_type": "markdown",
   "source": [
    "# Create Variable Groups for CORE pipelines\n",
    "\n",
    "For each application\n",
    "- Get the Environment Variables\n",
    "- Extract the Secrets\n",
    "- Create Variable Group\n",
    "- Add Variables"
   ],
   "metadata": {}
  },
  {
   "cell_type": "markdown",
   "source": [
    "## Imports"
   ],
   "metadata": {}
  },
  {
   "cell_type": "code",
   "execution_count": null,
   "source": [
    "from azure.devops.connection import Connection\r\n",
    "from msrest.authentication import BasicAuthentication\r\n",
    "from cloudfoundry_client.client import CloudFoundryClient\r\n",
    "import re\r\n",
    "import pprint"
   ],
   "outputs": [],
   "metadata": {}
  },
  {
   "cell_type": "markdown",
   "source": [
    "## Get Applications Data\r\n",
    "\r\n",
    "Here I connect to Cloud Foundry and load all the environment variables for every app in the space into the variable `applications_variables`. The Space is defined by the GUID.\r\n",
    "\r\n",
    "Requires a username and password."
   ],
   "metadata": {}
  },
  {
   "cell_type": "code",
   "execution_count": null,
   "source": [
    "target_endpoint = 'https://api.cf.us10.hana.ondemand.com'\r\n",
    "username = ''\r\n",
    "password = ''\r\n",
    "\r\n",
    "client = CloudFoundryClient(target_endpoint)\r\n",
    "# init with user credentials\r\n",
    "client.init_with_user_credentials(username, password)\r\n",
    "\r\n",
    "applications_variables = {}\r\n",
    "\r\n",
    "for app in client.v2.apps.list(**{'space_guid': 'b0a49358-1099-43e9-8da4-67c3395f076b'}):\r\n",
    "    applications_variables[app['entity']['name']] = app['entity']['environment_json']\r\n"
   ],
   "outputs": [],
   "metadata": {}
  },
  {
   "cell_type": "markdown",
   "source": [
    "## Extract the Secrets\r\n",
    "\r\n",
    "This pulls out all the secret variables as defined below and stores them in `applications_secrets`."
   ],
   "metadata": {}
  },
  {
   "cell_type": "code",
   "execution_count": null,
   "source": [
    "applications_secrets = {}\r\n",
    "\r\n",
    "def convert(name):\r\n",
    "    s1 = re.sub('(.)([A-Z][a-z]+)', r'\\1_\\2', name)\r\n",
    "    s2 = re.sub('([a-z0-9])([A-Z])', r'\\1_\\2', s1).lower()\r\n",
    "    return s2.replace('.', '_').replace('__', '_').replace('mx_', '')\r\n",
    "\r\n",
    "\r\n",
    "for app_name in applications_variables:\r\n",
    "    envars = applications_variables[app_name]\r\n",
    "    secrets = {}\r\n",
    "    for var in envars:\r\n",
    "        value = envars[var]\r\n",
    "        if 'key' in var.lower() \\\r\n",
    "           or 'secret' in var.lower() \\\r\n",
    "           or 'password' in var.lower() \\\r\n",
    "           or 'pass' in var.lower() \\\r\n",
    "           or 'sec' in var.lower():\r\n",
    "            secrets[convert(var)] = value\r\n",
    "    applications_secrets[app_name] = secrets\r\n",
    "\r\n",
    "pprint.pprint(applications_secrets)"
   ],
   "outputs": [],
   "metadata": {}
  },
  {
   "cell_type": "markdown",
   "source": [
    "## Roadside Variable Group\r\n",
    "\r\n",
    "This creates a variable group for Roadside Specificly with all the secrets. \r\n",
    "\r\n",
    "Requires a PAT (personal access token)"
   ],
   "metadata": {}
  },
  {
   "cell_type": "code",
   "execution_count": null,
   "source": [
    "# Fill in with your personal access token and org URL\r\n",
    "personal_access_token = ''\r\n",
    "organization_url = 'https://dev.azure.com/lovestfs'\r\n",
    "\r\n",
    "# Create a connection to the org\r\n",
    "credentials = BasicAuthentication('', personal_access_token)\r\n",
    "connection = Connection(base_url=organization_url, creds=credentials)\r\n",
    "\r\n",
    "# Get a client (the \"core\" client provides access to projects, teams, etc)\r\n",
    "task_agent_client = connection.clients_v6_0.get_task_agent_client()\r\n",
    "\r\n",
    "secrets = {}\r\n",
    "app = 'Roadside-Stage'\r\n",
    "for secret in applications_secrets[app]:\r\n",
    "    value = applications_secrets[app][secret]\r\n",
    "    secrets[secret] = {'isSecret': True,\r\n",
    "                        'value': value}\r\n",
    "\r\n",
    "request_data = {'description': 'Production Secrets for ' + app,\r\n",
    "                'name': 'Roadside-Prod-Secrets',\r\n",
    "                'type': 'Vsts',\r\n",
    "                'variableGroupProjectReferences': [{'name': 'Roadside-Prod-Secrets', 'projectReference': {'name': 'MendixDevelopment'}}],\r\n",
    "                'variables': secrets}\r\n",
    "add_variable_group_response = task_agent_client.add_variable_group(request_data)\r\n",
    "pprint.pprint(add_variable_group_response)"
   ],
   "outputs": [],
   "metadata": {}
  },
  {
   "cell_type": "markdown",
   "source": [
    "# cf push parameters\r\n",
    "\r\n",
    "This outputs the cf push parameters by application"
   ],
   "metadata": {}
  },
  {
   "cell_type": "code",
   "execution_count": null,
   "source": [
    "for app in applications_secrets:\r\n",
    "    secret_vars = applications_secrets[app]\r\n",
    "    parameters = '-p \"_Build/drop/prod.yml'\r\n",
    "    for key in secret_vars:\r\n",
    "        value = secret_vars[key]\r\n",
    "        parameters += f' --var {key}=$({key})'\r\n",
    "    print(f'{app}: {parameters}\\n\\n')"
   ],
   "outputs": [],
   "metadata": {}
  },
  {
   "cell_type": "markdown",
   "source": [
    "## Create Variable Groups\r\n",
    "\r\n",
    "Creates all the other variable Groups"
   ],
   "metadata": {}
  },
  {
   "cell_type": "code",
   "execution_count": null,
   "source": [
    "# Fill in with your personal access token and org URL\r\n",
    "personal_access_token = '2p7jquww7qdjxwnlzrnhmgdxn5lu4kqseq2dt6i5urfyvqramurq'\r\n",
    "organization_url = 'https://dev.azure.com/lovestfs'\r\n",
    "\r\n",
    "# Create a connection to the org\r\n",
    "credentials = BasicAuthentication('', personal_access_token)\r\n",
    "connection = Connection(base_url=organization_url, creds=credentials)\r\n",
    "\r\n",
    "# Get a client (the \"core\" client provides access to projects, teams, etc)\r\n",
    "task_agent_client = connection.clients_v6_0.get_task_agent_client()\r\n",
    "\r\n",
    "# get_variable_group_response = task_agent_client.get_variable_group('MendixDevelopment', '80')\r\n",
    "# pprint.pprint(get_variable_group_response.name)\r\n",
    "\r\n",
    "for app in applications_secrets:\r\n",
    "    secrets = {}\r\n",
    "    for secret in applications_secrets[app]:\r\n",
    "        value = applications_secrets[app][secret]\r\n",
    "        secrets[secret] = {'isSecret': True,\r\n",
    "                           'value': value}\r\n",
    "    \r\n",
    "    request_data = {'description': 'Production Secrets for ' + app,\r\n",
    "                    'name': app + '-Prod-Secrets',\r\n",
    "                    'type': 'Vsts',\r\n",
    "                    'variableGroupProjectReferences': [{'name': app + '-Prod-Secrets', 'projectReference': {'name': 'MendixDevelopment'}}],\r\n",
    "                    'variables': secrets}\r\n",
    "    add_variable_group_response = task_agent_client.add_variable_group(request_data)\r\n",
    "    pprint.pprint(add_variable_group_response)"
   ],
   "outputs": [],
   "metadata": {}
  },
  {
   "cell_type": "code",
   "execution_count": null,
   "source": [],
   "outputs": [],
   "metadata": {}
  }
 ],
 "metadata": {
  "kernelspec": {
   "name": "python3",
   "display_name": "Python 3.9.6 64-bit"
  },
  "language_info": {
   "codemirror_mode": {
    "name": "ipython",
    "version": 3
   },
   "file_extension": ".py",
   "mimetype": "text/x-python",
   "name": "python",
   "nbconvert_exporter": "python",
   "pygments_lexer": "ipython3",
   "version": "3.9.6"
  },
  "interpreter": {
   "hash": "5b17dc33a84ee7ec76c11d14993794b7e0da1eb905f58315c15eef9b36bf833a"
  }
 },
 "nbformat": 4,
 "nbformat_minor": 5
}