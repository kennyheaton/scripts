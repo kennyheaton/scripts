{
 "cells": [
  {
   "cell_type": "markdown",
   "source": [
    "# Create Release Pipelines for CORE\r\n",
    "\r\n",
    "- Download a copy of the pipeline\r\n",
    "- For each app\r\n",
    "  - Update the copy\r\n",
    "  - Upload to Dev Ops"
   ],
   "metadata": {}
  },
  {
   "cell_type": "code",
   "execution_count": 2,
   "source": [
    "import requests\r\n",
    "import pprint\r\n",
    "import base64\r\n",
    "from requests.auth import HTTPBasicAuth"
   ],
   "outputs": [],
   "metadata": {}
  },
  {
   "cell_type": "markdown",
   "source": [
    "## Download pipeline example"
   ],
   "metadata": {}
  },
  {
   "cell_type": "code",
   "execution_count": null,
   "source": [
    "personal_access_token = '2p7jquww7qdjxwnlzrnhmgdxn5lu4kqseq2dt6i5urfyvqramurq'\r\n",
    "auth = f\":{personal_access_token}\"\r\n",
    "personal_access_token_bytes = auth.encode(\"ascii\")\r\n",
    "  \r\n",
    "base64_bytes = base64.b64encode(personal_access_token_bytes)\r\n",
    "base64_string = base64_bytes.decode(\"ascii\")\r\n",
    "\r\n",
    "organization = \"lovestfs\"\r\n",
    "project = \"MendixDevelopment\"\r\n",
    "releaseId = \"524\"\r\n",
    "\r\n",
    "url = f\"https://vsrm.dev.azure.com/{organization}/{project}/_apis/release/releases/{releaseId}?api-version=6.1-preview.8\"\r\n",
    "header = {'Authorization': f'Basic {base64_string}'}\r\n",
    "\r\n",
    "response = requests.get(url, headers=header)\r\n",
    "\r\n",
    "\r\n",
    "pprint.pprint(response.status_code)\r\n",
    "pprint.pprint(response.json())"
   ],
   "outputs": [],
   "metadata": {}
  }
 ],
 "metadata": {
  "kernelspec": {
   "display_name": "Python 3",
   "language": "python",
   "name": "python3"
  },
  "language_info": {
   "codemirror_mode": {
    "name": "ipython",
    "version": 3
   },
   "file_extension": ".py",
   "mimetype": "text/x-python",
   "name": "python",
   "nbconvert_exporter": "python",
   "pygments_lexer": "ipython3",
   "version": "3.9.6"
  }
 },
 "nbformat": 4,
 "nbformat_minor": 5
}